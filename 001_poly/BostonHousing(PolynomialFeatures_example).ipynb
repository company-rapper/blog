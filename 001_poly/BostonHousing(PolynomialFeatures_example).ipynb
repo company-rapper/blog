{
 "cells": [
  {
   "cell_type": "markdown",
   "metadata": {
    "ExecuteTime": {
     "end_time": "2019-09-14T04:36:15.668724Z",
     "start_time": "2019-09-14T04:36:15.665148Z"
    }
   },
   "source": [
    "## PolynomialFeatures使用例\n",
    "- Boston Housingデータセットを例として使用\n",
    "- Boston Housingデータセットについては下記サイトを参考にした。\n",
    " - 「Boston Housing Prices - Evaluation & Validation」https://www.kaggle.com/samratp/boston-housing-prices-evaluation-validation\n",
    " - 「Linear Regression on Boston Housing Dataset」https://towardsdatascience.com/linear-regression-on-boston-housing-dataset-f409b7e4a155\n",
    " - 「機械学習とBoston Housing Data（3）」https://kiidax.wordpress.com/2016/09/14/機械学習とboston-housing-data（3）/"
   ]
  },
  {
   "cell_type": "markdown",
   "metadata": {
    "ExecuteTime": {
     "end_time": "2019-09-14T04:37:22.768887Z",
     "start_time": "2019-09-14T04:37:22.767294Z"
    }
   },
   "source": [
    "## 前処理\n",
    "### ライブラリインポート"
   ]
  },
  {
   "cell_type": "code",
   "execution_count": 4,
   "metadata": {
    "ExecuteTime": {
     "end_time": "2019-09-14T04:37:24.034176Z",
     "start_time": "2019-09-14T04:37:24.029191Z"
    }
   },
   "outputs": [],
   "source": [
    "import numpy as np\n",
    "import pandas as pd\n",
    "from sklearn.model_selection import train_test_split\n",
    "from sklearn.metrics import r2_score\n",
    "from sklearn.pipeline import Pipeline\n",
    "from sklearn.metrics import mean_squared_error\n",
    "from sklearn.preprocessing import StandardScaler\n",
    "from sklearn.preprocessing import PolynomialFeatures\n",
    "from sklearn.linear_model import ElasticNet\n",
    "from sklearn.model_selection import GridSearchCV\n",
    "from sklearn.datasets import load_boston"
   ]
  },
  {
   "cell_type": "markdown",
   "metadata": {
    "ExecuteTime": {
     "end_time": "2019-09-14T04:37:32.208324Z",
     "start_time": "2019-09-14T04:37:32.206745Z"
    }
   },
   "source": [
    "### データセット読み込み"
   ]
  },
  {
   "cell_type": "code",
   "execution_count": 6,
   "metadata": {
    "ExecuteTime": {
     "end_time": "2019-09-14T04:39:13.237536Z",
     "start_time": "2019-09-14T04:39:13.229824Z"
    }
   },
   "outputs": [],
   "source": [
    "boston = load_boston()\n",
    "# sklearn.utils.BunchからDataFrame形式へ変換\n",
    "df_prices = pd.DataFrame(boston.target, columns=[\"MEDV\"])\n",
    "df_features = pd.DataFrame(boston.data, columns=boston.feature_names)\n",
    "\n",
    "df_data = pd.concat([df_prices,df_features],axis=1)\n",
    "\n",
    "# 価格が50以上の場合は50になってしまっているようなので、データを削除\n",
    "# (「Boston Housing Prices - Evaluation & Validation」https://www.kaggle.com/samratp/boston-housing-prices-evaluation-validation)\n",
    "df_data = df_data[df_data[\"MEDV\"]<50]"
   ]
  },
  {
   "cell_type": "markdown",
   "metadata": {},
   "source": [
    "### 学習データ、テストデータに振り分け"
   ]
  },
  {
   "cell_type": "code",
   "execution_count": 7,
   "metadata": {
    "ExecuteTime": {
     "end_time": "2019-09-14T04:40:09.618889Z",
     "start_time": "2019-09-14T04:40:09.613295Z"
    }
   },
   "outputs": [],
   "source": [
    "df_features_ = df_data.drop([\"MEDV\"],axis=1)\n",
    "df_prices = df_data[\"MEDV\"]\n",
    "X_train, X_test, y_train, y_test = train_test_split(df_features_, df_prices, test_size = 0.2, random_state=5)"
   ]
  },
  {
   "cell_type": "markdown",
   "metadata": {},
   "source": [
    "### グリッドサーチ\n",
    "- 参考「GridSearchCV(scikit-learn)によるチューニング」http://starpentagon.net/analytics/scikit_learn_grid_search_cv/\n",
    "- パイプライン中の流れ\n",
    " - StandardScaler()で標準化する\n",
    " - PolynomialFeatures()で多項式カラムを作る\n",
    " - ElasticNet()で回帰させる\n",
    "- グリッドサーチにより、最もスコアが高くなるハイパーパラメータを探索する"
   ]
  },
  {
   "cell_type": "code",
   "execution_count": 8,
   "metadata": {
    "ExecuteTime": {
     "end_time": "2019-09-14T04:43:48.247723Z",
     "start_time": "2019-09-14T04:43:42.411725Z"
    }
   },
   "outputs": [
    {
     "name": "stdout",
     "output_type": "stream",
     "text": [
      "結果\n",
      "RMSE (train) : 2.585\n",
      "RMSE (test) : 2.798\n",
      "R2 score (train): 0.889\n",
      "R2 score (test) : 0.885\n",
      "clf.best_params_ {'en__alpha': 0.1, 'en__fit_intercept': False, 'en__l1_ratio': 0.9, 'pf__degree': 2}\n"
     ]
    },
    {
     "name": "stderr",
     "output_type": "stream",
     "text": [
      "/Users/suzuki/anaconda3/lib/python3.7/site-packages/sklearn/model_selection/_search.py:841: DeprecationWarning: The default of the `iid` parameter will change from True to False in version 0.22 and will be removed in 0.24. This will change numeric results when test-set sizes are unequal.\n",
      "  DeprecationWarning)\n"
     ]
    }
   ],
   "source": [
    "alpha_params = np.logspace(-3, 3, 7)\n",
    "l1_ratio_params = np.arange(0.1, 1.0, 0.1)\n",
    " \n",
    "steps = [\n",
    "    ('ss', StandardScaler()),\n",
    "    ('pf', PolynomialFeatures()),\n",
    "    ('en', ElasticNet())\n",
    "]\n",
    "pipeline = Pipeline(steps=steps)\n",
    "    \n",
    "paramters = {\n",
    "    'pf__degree': [1,2,3],\n",
    "    'en__alpha': alpha_params,\n",
    "    'en__l1_ratio': l1_ratio_params,\n",
    "    'en__fit_intercept': [False]\n",
    "}\n",
    " \n",
    "model_CV = GridSearchCV(\n",
    "    estimator = pipeline,  \n",
    "    param_grid = paramters,\n",
    "    cv = 5,\n",
    "    n_jobs = -1, \n",
    ")\n",
    " \n",
    "model_CV.fit(X_train, y_train)\n",
    "\n",
    "best_param = model_CV.best_params_\n",
    "best_estimator = model_CV.best_estimator_\n",
    " \n",
    "pred_train = best_estimator.predict(X_train)\n",
    "r2score_train = r2_score(y_train, pred_train)\n",
    "rmse_train = np.sqrt(mean_squared_error(y_train, pred_train))\n",
    "\n",
    "pred_test = best_estimator.predict(X_test)\n",
    "r2score_test = r2_score(y_test, pred_test)\n",
    "rmse_test = np.sqrt(mean_squared_error(y_test, pred_test))\n",
    "\n",
    "print(\"結果\")\n",
    "print('RMSE (train) : {:.3f}'.format(rmse_train))\n",
    "print('RMSE (test) : {:.3f}'.format(rmse_test))\n",
    "print('R2 score (train): %.3f' % r2score_train)\n",
    "print('R2 score (test) : %.3f' % r2score_test)\n",
    "print('clf.best_params_', best_param)"
   ]
  },
  {
   "cell_type": "markdown",
   "metadata": {},
   "source": [
    "### カラム名に対応した係数を出力する\n",
    "#### 下準備\n",
    "- 拙ブログ「sklearn.preprocessing.PolynomialFeatures の仕様を調査する」https://company-rapper.hatenablog.jp/entry/2019/08/01/230829より"
   ]
  },
  {
   "cell_type": "code",
   "execution_count": 9,
   "metadata": {
    "ExecuteTime": {
     "end_time": "2019-09-14T04:48:04.422874Z",
     "start_time": "2019-09-14T04:48:03.785041Z"
    }
   },
   "outputs": [],
   "source": [
    "# 1番目からn番目までの素数をnp.arrayで返す関数\n",
    "import sympy\n",
    "def primes(n=0):\n",
    "    ret_primes = list()\n",
    "    for i in np.arange(n):\n",
    "        ret_primes.append(sympy.prime(i+1))\n",
    "    return ret_primes\n",
    "\n",
    "# コラム名リストからコラムに対してユニークな素数が割り付けられたデータフレームを返す関数\n",
    "def generate_df_prime_from_columns(columns_original = np.array([\"a\",\"b\",\"c\"])):\n",
    "    data_original = np.array(primes(len(columns_original)))\n",
    "    return pd.DataFrame(data=data_original[np.newaxis,:],columns=columns_original,index=[\"original\"])\n",
    "\n",
    "# PolynomialFeatures()の出力に対応したカラムを返す関数\n",
    "def get_columns_for_PolynomialFeatures(poly=PolynomialFeatures(2),columns_from=[\"a\",\"b\",\"c\"],power=False):\n",
    "    df_from = generate_df_prime_from_columns(columns_from)\n",
    "    columns_from = df_from.columns\n",
    "    data_from = df_from.values\n",
    "    data_poly = poly.fit_transform(df_from)\n",
    "    # columnsをもう一度作り直す\n",
    "    columns_poly = list()\n",
    "    for i, data_poly_0 in enumerate(data_poly[0]):\n",
    "        if (data_poly_0 == 1):\n",
    "            columns_poly.append(\"bias\")\n",
    "        else:\n",
    "            prime_dict=sympy.factorint(data_poly_0)\n",
    "            keys = list(prime_dict.keys())\n",
    "            columns_str = \"\"\n",
    "            if power:\n",
    "                # 累乗で書ける部分は累乗で書く(例:a^2)\n",
    "                for j, key in enumerate(keys):\n",
    "                    columns_str += columns_from[list(data_from[0]).index(key)]\n",
    "                    if prime_dict[key] > 1:\n",
    "                        columns_str += \"^\" + str(prime_dict[key])\n",
    "                    if (j < len(keys)-1):\n",
    "                        columns_str += \"×\"\n",
    "            else:\n",
    "                # 単純に×で項目をつなげていく(例:a×a×b)\n",
    "                for j, key in enumerate(keys):\n",
    "                    for k in np.arange(prime_dict[key]):\n",
    "                        columns_str += columns_from[list(data_from[0]).index(key)]\n",
    "                        if (j < len(keys)-1) | (k < prime_dict[key]-1):\n",
    "                            columns_str += \"×\"\n",
    "            columns_poly.append(columns_str)\n",
    "    return columns_poly"
   ]
  },
  {
   "cell_type": "markdown",
   "metadata": {
    "ExecuteTime": {
     "end_time": "2019-09-14T04:48:32.778986Z",
     "start_time": "2019-09-14T04:48:32.777105Z"
    }
   },
   "source": [
    "#### 係数が大きい順番に出力"
   ]
  },
  {
   "cell_type": "code",
   "execution_count": 11,
   "metadata": {
    "ExecuteTime": {
     "end_time": "2019-09-14T04:49:26.456282Z",
     "start_time": "2019-09-14T04:49:26.120387Z"
    }
   },
   "outputs": [
    {
     "data": {
      "text/html": [
       "<div>\n",
       "<style scoped>\n",
       "    .dataframe tbody tr th:only-of-type {\n",
       "        vertical-align: middle;\n",
       "    }\n",
       "\n",
       "    .dataframe tbody tr th {\n",
       "        vertical-align: top;\n",
       "    }\n",
       "\n",
       "    .dataframe thead th {\n",
       "        text-align: right;\n",
       "    }\n",
       "</style>\n",
       "<table border=\"1\" class=\"dataframe\">\n",
       "  <thead>\n",
       "    <tr style=\"text-align: right;\">\n",
       "      <th></th>\n",
       "      <th>coef</th>\n",
       "      <th>abs coef</th>\n",
       "    </tr>\n",
       "  </thead>\n",
       "  <tbody>\n",
       "    <tr>\n",
       "      <th>bias</th>\n",
       "      <td>17.580475</td>\n",
       "      <td>17.580475</td>\n",
       "    </tr>\n",
       "    <tr>\n",
       "      <th>RM</th>\n",
       "      <td>2.504036</td>\n",
       "      <td>2.504036</td>\n",
       "    </tr>\n",
       "    <tr>\n",
       "      <th>LSTAT</th>\n",
       "      <td>-2.486765</td>\n",
       "      <td>2.486765</td>\n",
       "    </tr>\n",
       "    <tr>\n",
       "      <th>CRIM</th>\n",
       "      <td>-2.045977</td>\n",
       "      <td>2.045977</td>\n",
       "    </tr>\n",
       "    <tr>\n",
       "      <th>TAX</th>\n",
       "      <td>-0.950377</td>\n",
       "      <td>0.950377</td>\n",
       "    </tr>\n",
       "    <tr>\n",
       "      <th>INDUS</th>\n",
       "      <td>-0.923279</td>\n",
       "      <td>0.923279</td>\n",
       "    </tr>\n",
       "    <tr>\n",
       "      <th>RAD×TAX</th>\n",
       "      <td>0.919711</td>\n",
       "      <td>0.919711</td>\n",
       "    </tr>\n",
       "    <tr>\n",
       "      <th>AGE</th>\n",
       "      <td>-0.775039</td>\n",
       "      <td>0.775039</td>\n",
       "    </tr>\n",
       "    <tr>\n",
       "      <th>DIS</th>\n",
       "      <td>-0.767196</td>\n",
       "      <td>0.767196</td>\n",
       "    </tr>\n",
       "    <tr>\n",
       "      <th>TAX×LSTAT</th>\n",
       "      <td>-0.734776</td>\n",
       "      <td>0.734776</td>\n",
       "    </tr>\n",
       "    <tr>\n",
       "      <th>AGE×B</th>\n",
       "      <td>-0.681036</td>\n",
       "      <td>0.681036</td>\n",
       "    </tr>\n",
       "    <tr>\n",
       "      <th>TAX×PTRATIO</th>\n",
       "      <td>0.595062</td>\n",
       "      <td>0.595062</td>\n",
       "    </tr>\n",
       "    <tr>\n",
       "      <th>B</th>\n",
       "      <td>0.594885</td>\n",
       "      <td>0.594885</td>\n",
       "    </tr>\n",
       "    <tr>\n",
       "      <th>PTRATIO</th>\n",
       "      <td>-0.591576</td>\n",
       "      <td>0.591576</td>\n",
       "    </tr>\n",
       "    <tr>\n",
       "      <th>RM×LSTAT</th>\n",
       "      <td>-0.575150</td>\n",
       "      <td>0.575150</td>\n",
       "    </tr>\n",
       "    <tr>\n",
       "      <th>INDUS×INDUS</th>\n",
       "      <td>0.559900</td>\n",
       "      <td>0.559900</td>\n",
       "    </tr>\n",
       "    <tr>\n",
       "      <th>RM×RM</th>\n",
       "      <td>0.518078</td>\n",
       "      <td>0.518078</td>\n",
       "    </tr>\n",
       "    <tr>\n",
       "      <th>RM×TAX</th>\n",
       "      <td>-0.516195</td>\n",
       "      <td>0.516195</td>\n",
       "    </tr>\n",
       "    <tr>\n",
       "      <th>ZN</th>\n",
       "      <td>-0.486938</td>\n",
       "      <td>0.486938</td>\n",
       "    </tr>\n",
       "    <tr>\n",
       "      <th>CHAS×RM</th>\n",
       "      <td>-0.464449</td>\n",
       "      <td>0.464449</td>\n",
       "    </tr>\n",
       "    <tr>\n",
       "      <th>NOX</th>\n",
       "      <td>-0.454374</td>\n",
       "      <td>0.454374</td>\n",
       "    </tr>\n",
       "    <tr>\n",
       "      <th>ZN×PTRATIO</th>\n",
       "      <td>0.446274</td>\n",
       "      <td>0.446274</td>\n",
       "    </tr>\n",
       "    <tr>\n",
       "      <th>NOX×RM</th>\n",
       "      <td>-0.438023</td>\n",
       "      <td>0.438023</td>\n",
       "    </tr>\n",
       "    <tr>\n",
       "      <th>TAX×TAX</th>\n",
       "      <td>0.432392</td>\n",
       "      <td>0.432392</td>\n",
       "    </tr>\n",
       "    <tr>\n",
       "      <th>RM×PTRATIO</th>\n",
       "      <td>-0.426034</td>\n",
       "      <td>0.426034</td>\n",
       "    </tr>\n",
       "    <tr>\n",
       "      <th>NOX×DIS</th>\n",
       "      <td>0.422305</td>\n",
       "      <td>0.422305</td>\n",
       "    </tr>\n",
       "    <tr>\n",
       "      <th>CHAS×DIS</th>\n",
       "      <td>0.409789</td>\n",
       "      <td>0.409789</td>\n",
       "    </tr>\n",
       "    <tr>\n",
       "      <th>PTRATIO×PTRATIO</th>\n",
       "      <td>0.392427</td>\n",
       "      <td>0.392427</td>\n",
       "    </tr>\n",
       "    <tr>\n",
       "      <th>AGE×AGE</th>\n",
       "      <td>0.374468</td>\n",
       "      <td>0.374468</td>\n",
       "    </tr>\n",
       "    <tr>\n",
       "      <th>RM×B</th>\n",
       "      <td>0.212104</td>\n",
       "      <td>0.212104</td>\n",
       "    </tr>\n",
       "    <tr>\n",
       "      <th>CHAS×NOX</th>\n",
       "      <td>-0.204649</td>\n",
       "      <td>0.204649</td>\n",
       "    </tr>\n",
       "    <tr>\n",
       "      <th>CHAS×CHAS</th>\n",
       "      <td>0.170832</td>\n",
       "      <td>0.170832</td>\n",
       "    </tr>\n",
       "    <tr>\n",
       "      <th>RM×AGE</th>\n",
       "      <td>-0.161122</td>\n",
       "      <td>0.161122</td>\n",
       "    </tr>\n",
       "    <tr>\n",
       "      <th>ZN×ZN</th>\n",
       "      <td>0.154256</td>\n",
       "      <td>0.154256</td>\n",
       "    </tr>\n",
       "    <tr>\n",
       "      <th>AGE×DIS</th>\n",
       "      <td>0.151477</td>\n",
       "      <td>0.151477</td>\n",
       "    </tr>\n",
       "    <tr>\n",
       "      <th>AGE×LSTAT</th>\n",
       "      <td>-0.135885</td>\n",
       "      <td>0.135885</td>\n",
       "    </tr>\n",
       "    <tr>\n",
       "      <th>B×B</th>\n",
       "      <td>-0.129573</td>\n",
       "      <td>0.129573</td>\n",
       "    </tr>\n",
       "    <tr>\n",
       "      <th>DIS×DIS</th>\n",
       "      <td>0.120519</td>\n",
       "      <td>0.120519</td>\n",
       "    </tr>\n",
       "    <tr>\n",
       "      <th>CRIM×CRIM</th>\n",
       "      <td>0.118679</td>\n",
       "      <td>0.118679</td>\n",
       "    </tr>\n",
       "    <tr>\n",
       "      <th>LSTAT×LSTAT</th>\n",
       "      <td>0.114893</td>\n",
       "      <td>0.114893</td>\n",
       "    </tr>\n",
       "    <tr>\n",
       "      <th>ZN×RM</th>\n",
       "      <td>0.110348</td>\n",
       "      <td>0.110348</td>\n",
       "    </tr>\n",
       "    <tr>\n",
       "      <th>CRIM×B</th>\n",
       "      <td>-0.102504</td>\n",
       "      <td>0.102504</td>\n",
       "    </tr>\n",
       "  </tbody>\n",
       "</table>\n",
       "</div>"
      ],
      "text/plain": [
       "                      coef   abs coef\n",
       "bias             17.580475  17.580475\n",
       "RM                2.504036   2.504036\n",
       "LSTAT            -2.486765   2.486765\n",
       "CRIM             -2.045977   2.045977\n",
       "TAX              -0.950377   0.950377\n",
       "INDUS            -0.923279   0.923279\n",
       "RAD×TAX           0.919711   0.919711\n",
       "AGE              -0.775039   0.775039\n",
       "DIS              -0.767196   0.767196\n",
       "TAX×LSTAT        -0.734776   0.734776\n",
       "AGE×B            -0.681036   0.681036\n",
       "TAX×PTRATIO       0.595062   0.595062\n",
       "B                 0.594885   0.594885\n",
       "PTRATIO          -0.591576   0.591576\n",
       "RM×LSTAT         -0.575150   0.575150\n",
       "INDUS×INDUS       0.559900   0.559900\n",
       "RM×RM             0.518078   0.518078\n",
       "RM×TAX           -0.516195   0.516195\n",
       "ZN               -0.486938   0.486938\n",
       "CHAS×RM          -0.464449   0.464449\n",
       "NOX              -0.454374   0.454374\n",
       "ZN×PTRATIO        0.446274   0.446274\n",
       "NOX×RM           -0.438023   0.438023\n",
       "TAX×TAX           0.432392   0.432392\n",
       "RM×PTRATIO       -0.426034   0.426034\n",
       "NOX×DIS           0.422305   0.422305\n",
       "CHAS×DIS          0.409789   0.409789\n",
       "PTRATIO×PTRATIO   0.392427   0.392427\n",
       "AGE×AGE           0.374468   0.374468\n",
       "RM×B              0.212104   0.212104\n",
       "CHAS×NOX         -0.204649   0.204649\n",
       "CHAS×CHAS         0.170832   0.170832\n",
       "RM×AGE           -0.161122   0.161122\n",
       "ZN×ZN             0.154256   0.154256\n",
       "AGE×DIS           0.151477   0.151477\n",
       "AGE×LSTAT        -0.135885   0.135885\n",
       "B×B              -0.129573   0.129573\n",
       "DIS×DIS           0.120519   0.120519\n",
       "CRIM×CRIM         0.118679   0.118679\n",
       "LSTAT×LSTAT       0.114893   0.114893\n",
       "ZN×RM             0.110348   0.110348\n",
       "CRIM×B           -0.102504   0.102504"
      ]
     },
     "metadata": {},
     "output_type": "display_data"
    }
   ],
   "source": [
    "# 係数を出力\n",
    "best_estimator.named_steps[\"en\"].coef_\n",
    "\n",
    "columns_for_coef_ = get_columns_for_PolynomialFeatures(poly=PolynomialFeatures(best_estimator.named_steps[\"pf\"].degree),\n",
    "                                                       columns_from=df_features_.columns)\n",
    "df_coef = pd.DataFrame(data=best_estimator.named_steps[\"en\"].coef_,index=columns_for_coef_,columns=[\"coef\"])\n",
    "df_coef[\"abs coef\"] = abs(df_coef[\"coef\"])\n",
    "\n",
    "# 係数の絶対値が0.1以上のものを絶対値の降順で表示\n",
    "display(df_coef[df_coef[\"abs coef\"]>0.1].sort_values('abs coef', ascending=False))"
   ]
  },
  {
   "cell_type": "code",
   "execution_count": null,
   "metadata": {},
   "outputs": [],
   "source": []
  }
 ],
 "metadata": {
  "kernelspec": {
   "display_name": "Python 3",
   "language": "python",
   "name": "python3"
  },
  "language_info": {
   "codemirror_mode": {
    "name": "ipython",
    "version": 3
   },
   "file_extension": ".py",
   "mimetype": "text/x-python",
   "name": "python",
   "nbconvert_exporter": "python",
   "pygments_lexer": "ipython3",
   "version": "3.7.1"
  },
  "toc": {
   "base_numbering": 1,
   "nav_menu": {},
   "number_sections": true,
   "sideBar": true,
   "skip_h1_title": false,
   "title_cell": "Table of Contents",
   "title_sidebar": "Contents",
   "toc_cell": false,
   "toc_position": {},
   "toc_section_display": true,
   "toc_window_display": false
  },
  "varInspector": {
   "cols": {
    "lenName": 16,
    "lenType": 16,
    "lenVar": 40
   },
   "kernels_config": {
    "python": {
     "delete_cmd_postfix": "",
     "delete_cmd_prefix": "del ",
     "library": "var_list.py",
     "varRefreshCmd": "print(var_dic_list())"
    },
    "r": {
     "delete_cmd_postfix": ") ",
     "delete_cmd_prefix": "rm(",
     "library": "var_list.r",
     "varRefreshCmd": "cat(var_dic_list()) "
    }
   },
   "types_to_exclude": [
    "module",
    "function",
    "builtin_function_or_method",
    "instance",
    "_Feature"
   ],
   "window_display": false
  }
 },
 "nbformat": 4,
 "nbformat_minor": 2
}
