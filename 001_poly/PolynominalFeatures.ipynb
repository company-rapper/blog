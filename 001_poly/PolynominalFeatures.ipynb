{
 "cells": [
  {
   "cell_type": "markdown",
   "metadata": {},
   "source": [
    "## PolynominalFeatures調査\n",
    "- 動作を調べ、ラベル付けを行う"
   ]
  },
  {
   "cell_type": "code",
   "execution_count": 50,
   "metadata": {
    "ExecuteTime": {
     "end_time": "2019-07-13T07:44:08.720447Z",
     "start_time": "2019-07-13T07:44:08.718649Z"
    }
   },
   "outputs": [],
   "source": [
    "import pandas as pd\n",
    "import numpy as np\n",
    "from sklearn.preprocessing import PolynomialFeatures\n",
    "import sympy"
   ]
  },
  {
   "cell_type": "markdown",
   "metadata": {},
   "source": [
    "## ダミーデータ作り"
   ]
  },
  {
   "cell_type": "code",
   "execution_count": 51,
   "metadata": {
    "ExecuteTime": {
     "end_time": "2019-07-13T07:44:09.633100Z",
     "start_time": "2019-07-13T07:44:09.629039Z"
    }
   },
   "outputs": [],
   "source": [
    "# 1番目からn番目までの素数をnp.arrayで返す関数\n",
    "def primes(n=0):\n",
    "    ret_primes = list()\n",
    "    for i in np.arange(n):\n",
    "        ret_primes.append(sympy.prime(i+1))\n",
    "    return ret_primes"
   ]
  },
  {
   "cell_type": "code",
   "execution_count": 86,
   "metadata": {
    "ExecuteTime": {
     "end_time": "2019-07-13T08:20:35.493643Z",
     "start_time": "2019-07-13T08:20:35.487644Z"
    }
   },
   "outputs": [
    {
     "data": {
      "text/html": [
       "<div>\n",
       "<style scoped>\n",
       "    .dataframe tbody tr th:only-of-type {\n",
       "        vertical-align: middle;\n",
       "    }\n",
       "\n",
       "    .dataframe tbody tr th {\n",
       "        vertical-align: top;\n",
       "    }\n",
       "\n",
       "    .dataframe thead th {\n",
       "        text-align: right;\n",
       "    }\n",
       "</style>\n",
       "<table border=\"1\" class=\"dataframe\">\n",
       "  <thead>\n",
       "    <tr style=\"text-align: right;\">\n",
       "      <th></th>\n",
       "      <th>a</th>\n",
       "      <th>b</th>\n",
       "      <th>c</th>\n",
       "    </tr>\n",
       "  </thead>\n",
       "  <tbody>\n",
       "    <tr>\n",
       "      <th>original</th>\n",
       "      <td>2</td>\n",
       "      <td>3</td>\n",
       "      <td>5</td>\n",
       "    </tr>\n",
       "  </tbody>\n",
       "</table>\n",
       "</div>"
      ],
      "text/plain": [
       "          a  b  c\n",
       "original  2  3  5"
      ]
     },
     "metadata": {},
     "output_type": "display_data"
    }
   ],
   "source": [
    "# コラム名リストからコラムに対してユニークな素数が割り付けられたデータフレームを返す関数\n",
    "def generate_df_prime_from_column(columns_original = np.array([\"a\",\"b\",\"c\"])):\n",
    "    data_original = np.array(primes(len(columns_original)))\n",
    "    return pd.DataFrame(data=data_original[np.newaxis,:],columns=columns_original,index=[\"original\"])\n",
    "\n",
    "# テスト\n",
    "display(generate_df_prime_from_column())"
   ]
  },
  {
   "cell_type": "markdown",
   "metadata": {},
   "source": [
    "## PolynominalFeaturesの動作を調べる\n",
    "### PolynominalFeatures\n",
    "- degree : integer\n",
    "The degree of the polynomial features. Default = 2.\n",
    "- interaction_only : boolean, default = False\n",
    "If true, only interaction features are produced: features that are products of at most degree distinct input features (so not x[1] ** 2, x[0] * x[2] ** 3, etc.).\n",
    "- include_bias : boolean\n",
    "If True (default), then include a bias column, the feature in which all polynomial powers are zero (i.e. a column of ones - acts as an intercept term in a linear model).\n",
    "- order : str in {‘C’, ‘F’}, default ‘C’\n",
    "Order of output array in the dense case. ‘F’ order is faster to compute, but may slow down subsequent estimators.\n",
    "\n",
    "from https://scikit-learn.org/stable/modules/generated/sklearn.preprocessing.PolynomialFeatures.html"
   ]
  },
  {
   "cell_type": "markdown",
   "metadata": {},
   "source": [
    "### データフレームとしてPolynominalFeatureの結果を返す関数\n",
    "コラム名もa×bなど、何と何を掛けたものであるかが分かるようにしている"
   ]
  },
  {
   "cell_type": "code",
   "execution_count": 101,
   "metadata": {
    "ExecuteTime": {
     "end_time": "2019-07-13T10:00:31.139955Z",
     "start_time": "2019-07-13T10:00:31.133082Z"
    }
   },
   "outputs": [],
   "source": [
    "def investigate_PolynominalFeatures(poly=PolynomialFeatures(2),columns_from=[\"a\",\"b\",\"c\"],power=False):\n",
    "    df_from = generate_df_prime_from_column(columns_from)\n",
    "    columns_from = df_from.columns\n",
    "    data_from = df_from.values\n",
    "    data_poly = poly.fit_transform(df_from)\n",
    "    # columnをもう一度作り直す\n",
    "    columns_poly = list()\n",
    "    for i in np.arange(data_poly.shape[1]):\n",
    "        if (data_poly[0][i] == 1):\n",
    "            columns_poly.append(\"bias\")\n",
    "        else:\n",
    "            prime_dict=sympy.factorint(data_poly[0][i])\n",
    "            keys = list(prime_dict.keys())\n",
    "            column_str = \"\"\n",
    "            if power:\n",
    "                # 累乗で書ける部分は累乗で書く(例:a^2)\n",
    "                for j in np.arange(len(keys)):\n",
    "                    column_str += columns_from[list(data_from[0]).index(keys[j])]\n",
    "                    if prime_dict[keys[j]] > 1:\n",
    "                        column_str += \"^\" + str(prime_dict[keys[j]])\n",
    "                    if (j < len(keys)-1):\n",
    "                        column_str += \"×\"\n",
    "            else:\n",
    "                # 単純に×で項目をつなげていく(例:a×a×b)\n",
    "                for j in np.arange(len(keys)):\n",
    "                    for k in np.arange(prime_dict[keys[j]]):\n",
    "                        column_str += columns_from[list(data_from[0]).index(keys[j])]\n",
    "                        if (j < len(keys)-1) | (k < prime_dict[keys[j]]-1):\n",
    "                            column_str += \"×\"\n",
    "            columns_poly.append(column_str)\n",
    "    return pd.DataFrame(data=data_poly,columns=columns_poly,index=[\"poly\"])"
   ]
  },
  {
   "cell_type": "markdown",
   "metadata": {},
   "source": [
    "### 調査結果\n",
    "- バイアス→係数1個→係数2個→・・・の順\n",
    "- 係数2個の中では、a×(a→b→c)→b×(b→c)→c×cの順\n",
    "- interaction_only = True (デフォルトはFalse)の時は同じ係数が2個以上登場しないもののみとなる"
   ]
  },
  {
   "cell_type": "code",
   "execution_count": 100,
   "metadata": {
    "ExecuteTime": {
     "end_time": "2019-07-13T08:26:12.146551Z",
     "start_time": "2019-07-13T08:26:12.106355Z"
    }
   },
   "outputs": [
    {
     "name": "stdout",
     "output_type": "stream",
     "text": [
      "degree=2のとき\n"
     ]
    },
    {
     "data": {
      "text/html": [
       "<div>\n",
       "<style scoped>\n",
       "    .dataframe tbody tr th:only-of-type {\n",
       "        vertical-align: middle;\n",
       "    }\n",
       "\n",
       "    .dataframe tbody tr th {\n",
       "        vertical-align: top;\n",
       "    }\n",
       "\n",
       "    .dataframe thead th {\n",
       "        text-align: right;\n",
       "    }\n",
       "</style>\n",
       "<table border=\"1\" class=\"dataframe\">\n",
       "  <thead>\n",
       "    <tr style=\"text-align: right;\">\n",
       "      <th></th>\n",
       "      <th>bias</th>\n",
       "      <th>a</th>\n",
       "      <th>b</th>\n",
       "      <th>c</th>\n",
       "      <th>a×a</th>\n",
       "      <th>a×b</th>\n",
       "      <th>a×c</th>\n",
       "      <th>b×b</th>\n",
       "      <th>b×c</th>\n",
       "      <th>c×c</th>\n",
       "    </tr>\n",
       "  </thead>\n",
       "  <tbody>\n",
       "    <tr>\n",
       "      <th>poly</th>\n",
       "      <td>1.0</td>\n",
       "      <td>2.0</td>\n",
       "      <td>3.0</td>\n",
       "      <td>5.0</td>\n",
       "      <td>4.0</td>\n",
       "      <td>6.0</td>\n",
       "      <td>10.0</td>\n",
       "      <td>9.0</td>\n",
       "      <td>15.0</td>\n",
       "      <td>25.0</td>\n",
       "    </tr>\n",
       "  </tbody>\n",
       "</table>\n",
       "</div>"
      ],
      "text/plain": [
       "      bias    a    b    c  a×a  a×b   a×c  b×b   b×c   c×c\n",
       "poly   1.0  2.0  3.0  5.0  4.0  6.0  10.0  9.0  15.0  25.0"
      ]
     },
     "metadata": {},
     "output_type": "display_data"
    },
    {
     "name": "stdout",
     "output_type": "stream",
     "text": [
      "\n",
      "degree=2, interaction_only=Trueのとき\n"
     ]
    },
    {
     "data": {
      "text/html": [
       "<div>\n",
       "<style scoped>\n",
       "    .dataframe tbody tr th:only-of-type {\n",
       "        vertical-align: middle;\n",
       "    }\n",
       "\n",
       "    .dataframe tbody tr th {\n",
       "        vertical-align: top;\n",
       "    }\n",
       "\n",
       "    .dataframe thead th {\n",
       "        text-align: right;\n",
       "    }\n",
       "</style>\n",
       "<table border=\"1\" class=\"dataframe\">\n",
       "  <thead>\n",
       "    <tr style=\"text-align: right;\">\n",
       "      <th></th>\n",
       "      <th>bias</th>\n",
       "      <th>a</th>\n",
       "      <th>b</th>\n",
       "      <th>c</th>\n",
       "      <th>a×b</th>\n",
       "      <th>a×c</th>\n",
       "      <th>b×c</th>\n",
       "    </tr>\n",
       "  </thead>\n",
       "  <tbody>\n",
       "    <tr>\n",
       "      <th>poly</th>\n",
       "      <td>1.0</td>\n",
       "      <td>2.0</td>\n",
       "      <td>3.0</td>\n",
       "      <td>5.0</td>\n",
       "      <td>6.0</td>\n",
       "      <td>10.0</td>\n",
       "      <td>15.0</td>\n",
       "    </tr>\n",
       "  </tbody>\n",
       "</table>\n",
       "</div>"
      ],
      "text/plain": [
       "      bias    a    b    c  a×b   a×c   b×c\n",
       "poly   1.0  2.0  3.0  5.0  6.0  10.0  15.0"
      ]
     },
     "metadata": {},
     "output_type": "display_data"
    },
    {
     "name": "stdout",
     "output_type": "stream",
     "text": [
      "\n",
      "degree=2, interaction_only=True, include_bias=Falseのとき\n"
     ]
    },
    {
     "data": {
      "text/html": [
       "<div>\n",
       "<style scoped>\n",
       "    .dataframe tbody tr th:only-of-type {\n",
       "        vertical-align: middle;\n",
       "    }\n",
       "\n",
       "    .dataframe tbody tr th {\n",
       "        vertical-align: top;\n",
       "    }\n",
       "\n",
       "    .dataframe thead th {\n",
       "        text-align: right;\n",
       "    }\n",
       "</style>\n",
       "<table border=\"1\" class=\"dataframe\">\n",
       "  <thead>\n",
       "    <tr style=\"text-align: right;\">\n",
       "      <th></th>\n",
       "      <th>a</th>\n",
       "      <th>b</th>\n",
       "      <th>c</th>\n",
       "      <th>a×b</th>\n",
       "      <th>a×c</th>\n",
       "      <th>b×c</th>\n",
       "    </tr>\n",
       "  </thead>\n",
       "  <tbody>\n",
       "    <tr>\n",
       "      <th>poly</th>\n",
       "      <td>2.0</td>\n",
       "      <td>3.0</td>\n",
       "      <td>5.0</td>\n",
       "      <td>6.0</td>\n",
       "      <td>10.0</td>\n",
       "      <td>15.0</td>\n",
       "    </tr>\n",
       "  </tbody>\n",
       "</table>\n",
       "</div>"
      ],
      "text/plain": [
       "        a    b    c  a×b   a×c   b×c\n",
       "poly  2.0  3.0  5.0  6.0  10.0  15.0"
      ]
     },
     "metadata": {},
     "output_type": "display_data"
    },
    {
     "name": "stdout",
     "output_type": "stream",
     "text": [
      "\n",
      "degree=3, interaction_only=False, include_bias=Falseのとき\n"
     ]
    },
    {
     "data": {
      "text/html": [
       "<div>\n",
       "<style scoped>\n",
       "    .dataframe tbody tr th:only-of-type {\n",
       "        vertical-align: middle;\n",
       "    }\n",
       "\n",
       "    .dataframe tbody tr th {\n",
       "        vertical-align: top;\n",
       "    }\n",
       "\n",
       "    .dataframe thead th {\n",
       "        text-align: right;\n",
       "    }\n",
       "</style>\n",
       "<table border=\"1\" class=\"dataframe\">\n",
       "  <thead>\n",
       "    <tr style=\"text-align: right;\">\n",
       "      <th></th>\n",
       "      <th>a</th>\n",
       "      <th>b</th>\n",
       "      <th>c</th>\n",
       "      <th>a^2</th>\n",
       "      <th>a×b</th>\n",
       "      <th>a×c</th>\n",
       "      <th>b^2</th>\n",
       "      <th>b×c</th>\n",
       "      <th>c^2</th>\n",
       "      <th>a^3</th>\n",
       "      <th>a^2×b</th>\n",
       "      <th>a^2×c</th>\n",
       "      <th>a×b^2</th>\n",
       "      <th>a×b×c</th>\n",
       "      <th>a×c^2</th>\n",
       "      <th>b^3</th>\n",
       "      <th>b^2×c</th>\n",
       "      <th>b×c^2</th>\n",
       "      <th>c^3</th>\n",
       "    </tr>\n",
       "  </thead>\n",
       "  <tbody>\n",
       "    <tr>\n",
       "      <th>poly</th>\n",
       "      <td>2.0</td>\n",
       "      <td>3.0</td>\n",
       "      <td>5.0</td>\n",
       "      <td>4.0</td>\n",
       "      <td>6.0</td>\n",
       "      <td>10.0</td>\n",
       "      <td>9.0</td>\n",
       "      <td>15.0</td>\n",
       "      <td>25.0</td>\n",
       "      <td>8.0</td>\n",
       "      <td>12.0</td>\n",
       "      <td>20.0</td>\n",
       "      <td>18.0</td>\n",
       "      <td>30.0</td>\n",
       "      <td>50.0</td>\n",
       "      <td>27.0</td>\n",
       "      <td>45.0</td>\n",
       "      <td>75.0</td>\n",
       "      <td>125.0</td>\n",
       "    </tr>\n",
       "  </tbody>\n",
       "</table>\n",
       "</div>"
      ],
      "text/plain": [
       "        a    b    c  a^2  a×b   a×c  b^2   b×c   c^2  a^3  a^2×b  a^2×c  \\\n",
       "poly  2.0  3.0  5.0  4.0  6.0  10.0  9.0  15.0  25.0  8.0   12.0   20.0   \n",
       "\n",
       "      a×b^2  a×b×c  a×c^2   b^3  b^2×c  b×c^2    c^3  \n",
       "poly   18.0   30.0   50.0  27.0   45.0   75.0  125.0  "
      ]
     },
     "metadata": {},
     "output_type": "display_data"
    },
    {
     "name": "stdout",
     "output_type": "stream",
     "text": [
      "\n",
      "degree=3, interaction_only=True, include_bias=Falseのとき\n"
     ]
    },
    {
     "data": {
      "text/html": [
       "<div>\n",
       "<style scoped>\n",
       "    .dataframe tbody tr th:only-of-type {\n",
       "        vertical-align: middle;\n",
       "    }\n",
       "\n",
       "    .dataframe tbody tr th {\n",
       "        vertical-align: top;\n",
       "    }\n",
       "\n",
       "    .dataframe thead th {\n",
       "        text-align: right;\n",
       "    }\n",
       "</style>\n",
       "<table border=\"1\" class=\"dataframe\">\n",
       "  <thead>\n",
       "    <tr style=\"text-align: right;\">\n",
       "      <th></th>\n",
       "      <th>a</th>\n",
       "      <th>b</th>\n",
       "      <th>c</th>\n",
       "      <th>a×b</th>\n",
       "      <th>a×c</th>\n",
       "      <th>b×c</th>\n",
       "      <th>a×b×c</th>\n",
       "    </tr>\n",
       "  </thead>\n",
       "  <tbody>\n",
       "    <tr>\n",
       "      <th>poly</th>\n",
       "      <td>2.0</td>\n",
       "      <td>3.0</td>\n",
       "      <td>5.0</td>\n",
       "      <td>6.0</td>\n",
       "      <td>10.0</td>\n",
       "      <td>15.0</td>\n",
       "      <td>30.0</td>\n",
       "    </tr>\n",
       "  </tbody>\n",
       "</table>\n",
       "</div>"
      ],
      "text/plain": [
       "        a    b    c  a×b   a×c   b×c  a×b×c\n",
       "poly  2.0  3.0  5.0  6.0  10.0  15.0   30.0"
      ]
     },
     "metadata": {},
     "output_type": "display_data"
    }
   ],
   "source": [
    "print(\"degree=2のとき\")\n",
    "display(investigate_PolynominalFeatures())\n",
    "\n",
    "print(\"\")\n",
    "print(\"degree=2, interaction_only=Trueのとき\")\n",
    "display(investigate_PolynominalFeatures(poly=PolynomialFeatures(degree=2,interaction_only=True)))\n",
    "\n",
    "print(\"\")\n",
    "print(\"degree=2, interaction_only=True, include_bias=Falseのとき\")\n",
    "display(investigate_PolynominalFeatures(poly=PolynomialFeatures(degree=2,interaction_only=True,include_bias=False)))\n",
    "\n",
    "print(\"\")\n",
    "print(\"degree=3, interaction_only=False, include_bias=Falseのとき\")\n",
    "display(investigate_PolynominalFeatures(poly=PolynomialFeatures(degree=3,include_bias=False),power=True))\n",
    "\n",
    "print(\"\")\n",
    "print(\"degree=3, interaction_only=True, include_bias=Falseのとき\")\n",
    "display(investigate_PolynominalFeatures(poly=PolynomialFeatures(degree=3,interaction_only=True,include_bias=False)))"
   ]
  },
  {
   "cell_type": "code",
   "execution_count": null,
   "metadata": {},
   "outputs": [],
   "source": []
  }
 ],
 "metadata": {
  "kernelspec": {
   "display_name": "Python 3",
   "language": "python",
   "name": "python3"
  },
  "language_info": {
   "codemirror_mode": {
    "name": "ipython",
    "version": 3
   },
   "file_extension": ".py",
   "mimetype": "text/x-python",
   "name": "python",
   "nbconvert_exporter": "python",
   "pygments_lexer": "ipython3",
   "version": "3.7.1"
  },
  "toc": {
   "base_numbering": 1,
   "nav_menu": {},
   "number_sections": true,
   "sideBar": true,
   "skip_h1_title": false,
   "title_cell": "Table of Contents",
   "title_sidebar": "Contents",
   "toc_cell": false,
   "toc_position": {},
   "toc_section_display": true,
   "toc_window_display": true
  },
  "varInspector": {
   "cols": {
    "lenName": 16,
    "lenType": 16,
    "lenVar": 40
   },
   "kernels_config": {
    "python": {
     "delete_cmd_postfix": "",
     "delete_cmd_prefix": "del ",
     "library": "var_list.py",
     "varRefreshCmd": "print(var_dic_list())"
    },
    "r": {
     "delete_cmd_postfix": ") ",
     "delete_cmd_prefix": "rm(",
     "library": "var_list.r",
     "varRefreshCmd": "cat(var_dic_list()) "
    }
   },
   "position": {
    "height": "261px",
    "left": "850px",
    "right": "20px",
    "top": "120px",
    "width": "329px"
   },
   "types_to_exclude": [
    "module",
    "function",
    "builtin_function_or_method",
    "instance",
    "_Feature"
   ],
   "window_display": false
  }
 },
 "nbformat": 4,
 "nbformat_minor": 2
}
